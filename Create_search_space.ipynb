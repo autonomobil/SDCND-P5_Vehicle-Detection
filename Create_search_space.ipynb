{
 "cells": [
  {
   "cell_type": "code",
   "execution_count": 3,
   "metadata": {
    "ExecuteTime": {
     "end_time": "2018-01-10T12:16:40.493831Z",
     "start_time": "2018-01-10T12:16:40.244800Z"
    }
   },
   "outputs": [
    {
     "name": "stdout",
     "output_type": "stream",
     "text": [
      "start constructing search space...\n"
     ]
    }
   ],
   "source": [
    "import numpy as np\n",
    "import pandas as pd\n",
    "\n",
    "create_search_space_file = 1\n",
    "\n",
    "search_space_file_name = 'search_space3.csv'\n",
    "\n",
    "if create_search_space_file:\n",
    "    parameters = ['color_space',\n",
    "                  'hog_orient',\n",
    "                  'hog_pix_per_cell',\n",
    "                  'spatial_size',\n",
    "                  'color_hist_bins',\n",
    "                  'reduc_factor',\n",
    "                  'C',\n",
    "                  'gamma',\n",
    "                  'kernel']\n",
    "\n",
    "    # search_this = [['RGB','LUV'], [9,19,37], [8,16,32,64], [16,32,64], [16,32,64], [4,8,12], np.arange(1, 16, 2), np.arange(0.0001, 0.001, 0.0001), ['linear','rbf']]\n",
    "    search_this = [['LAB','LUV'], # color_space\n",
    "                   [11], # hog_orient\n",
    "                   [16], # hog_pix_per_cell\n",
    "                   [16], # spatial_size\n",
    "                   [16], # color_hist_bins\n",
    "                   [18,23], # reduc_factor\n",
    "                   [5,10], # C\n",
    "                   [0.0025, 0.005], # gamma\n",
    "                   ['rbf']] # kernel\n",
    "\n",
    "    how_many = len(search_this[0])*len(search_this[1])*len(search_this[2])*len(search_this[3])*len(search_this[4])*len(search_this[5])*len(search_this[6])*len(search_this[7])*len(search_this[8])\n",
    "\n",
    "    search_space = pd.DataFrame(None, columns=parameters)\n",
    "    print('start constructing search space...')\n",
    "\n",
    "    # search_space\n",
    "    for q in range(len(search_this[0])):  \n",
    "        for w in range(len(search_this[1])):\n",
    "            for e in range(len(search_this[2])):\n",
    "                for r in range(len(search_this[3])):\n",
    "                    for t in range(len(search_this[4])):\n",
    "                        for z in range(len(search_this[5])):\n",
    "                            for u in range(len(search_this[6])):\n",
    "                                for i in range(len(search_this[7])):\n",
    "                                    for o in range(len(search_this[8])):\n",
    "\n",
    "                                        temp_df = pd.DataFrame([[search_this[0][q],\n",
    "                                                                search_this[1][w],\n",
    "                                                                search_this[2][e],\n",
    "                                                                search_this[3][r],\n",
    "                                                                search_this[4][t], \n",
    "                                                                search_this[5][z],\n",
    "                                                                search_this[6][u],\n",
    "                                                                search_this[7][i],\n",
    "                                                                search_this[8][o]]], columns=parameters);\n",
    "\n",
    "                                        search_space = search_space.append(temp_df, ignore_index=True)\n",
    "                                        \n",
    "    search_space['accuracy'] = pd.Series(np.zeros((how_many,)), index=search_space.index)\n",
    "    search_space['time to predict 100'] = pd.Series(np.zeros((how_many,)), index=search_space.index)\n",
    "    search_space['training time'] = pd.Series(np.zeros((how_many,)), index=search_space.index)\n",
    "    search_space['features vector length'] = pd.Series(np.zeros((how_many,)), index=search_space.index)\n",
    "#     search_space['performance'] = pd.Series(np.zeros((how_many,)), index=search_space.index)\n",
    "    \n",
    "    search_space.to_csv(search_space_file_name, index=False)    "
   ]
  },
  {
   "cell_type": "code",
   "execution_count": null,
   "metadata": {},
   "outputs": [],
   "source": []
  }
 ],
 "metadata": {
  "kernelspec": {
   "display_name": "Python 3",
   "language": "python",
   "name": "python3"
  },
  "language_info": {
   "codemirror_mode": {
    "name": "ipython",
    "version": 3
   },
   "file_extension": ".py",
   "mimetype": "text/x-python",
   "name": "python",
   "nbconvert_exporter": "python",
   "pygments_lexer": "ipython3",
   "version": "3.5.4"
  },
  "varInspector": {
   "cols": {
    "lenName": 16,
    "lenType": 16,
    "lenVar": 40
   },
   "kernels_config": {
    "python": {
     "delete_cmd_postfix": "",
     "delete_cmd_prefix": "del ",
     "library": "var_list.py",
     "varRefreshCmd": "print(var_dic_list())"
    },
    "r": {
     "delete_cmd_postfix": ") ",
     "delete_cmd_prefix": "rm(",
     "library": "var_list.r",
     "varRefreshCmd": "cat(var_dic_list()) "
    }
   },
   "position": {
    "height": "600px",
    "left": "1375.45px",
    "right": "20px",
    "top": "120px",
    "width": "355px"
   },
   "types_to_exclude": [
    "module",
    "function",
    "builtin_function_or_method",
    "instance",
    "_Feature"
   ],
   "window_display": false
  }
 },
 "nbformat": 4,
 "nbformat_minor": 2
}
